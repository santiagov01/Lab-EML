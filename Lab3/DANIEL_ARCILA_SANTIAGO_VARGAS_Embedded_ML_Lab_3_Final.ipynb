{
  "cells": [
    {
      "cell_type": "markdown",
      "metadata": {
        "id": "7SFBFiQlYlva"
      },
      "source": [
        "# Embedded ML - Lab 3: Accelerators for ML"
      ]
    },
    {
      "cell_type": "markdown",
      "metadata": {
        "id": "DTNEs3wxwHHO"
      },
      "source": [
        "Tensor Flow Lite is not only a vehicle to export models to be used in Tensor Flow Lite Micro. It's also an interpreter to run inference on devices that have less resources than servers or standard computers, such as mobile phones, drones, network cameras, etc. In this lab we will use TF Lite to implement an ML application on an embedded platform that features a GPU."
      ]
    },
    {
      "cell_type": "markdown",
      "metadata": {
        "id": "lQK0RRRuY3rJ"
      },
      "source": [
        "### Learning outcomes\n",
        "\n",
        "\n",
        "* Explain the differences between a Tensor Flow and a TF Lite environment\n",
        "* Use the TF Lite API to implement an ML application on an embedded GPU\n",
        "* Understand the performance differences between TF and TF Lite\n",
        "* Understand the performance differences between embedded and higher-end GPUs\n",
        "* Use tools for execution time and memory measurement"
      ]
    },
    {
      "cell_type": "markdown",
      "metadata": {
        "id": "l8wat6Kxul5R"
      },
      "source": [
        "### Basic performance measurement"
      ]
    },
    {
      "cell_type": "markdown",
      "source": [
        "In this lab you'll be required to measure the execution **time** and **memory** consumption of certain code sequences. There are many ways of achieving this and you are encouraged to investigate yourself a bit what options are available and how they differ from each other.\n",
        "\n",
        "When measuring **execution time**, you should think and decide what is the piece of code you are really interested in measuring, and your conclusions must take that into account. Also notice that the shorter time the code takes, the less accurate can be the measurement because any other thing happening in the system will be a significant noise. Besides using more specialized libraries for accurate time measuring, one common trick you can use is to run a short piece of code many times in a loop, measuring the total loop time and diving by the number of iterations. For this lab you could start with the **time.time()** method of the time Python library."
      ],
      "metadata": {
        "id": "A3LWGJXAzVF1"
      }
    },
    {
      "cell_type": "code",
      "source": [
        "import time\n",
        "\n",
        "start = time.time()\n",
        "\n",
        "# here goes the code you want to measure\n",
        "\n",
        "end = time.time()\n",
        "print(\"Execution time:\", end - start, \"seconds\")"
      ],
      "metadata": {
        "id": "xg5VXTVd1-VW",
        "colab": {
          "base_uri": "https://localhost:8080/"
        },
        "outputId": "9c5a7a6c-45ea-4f4f-999a-2f2afd9e0708"
      },
      "execution_count": null,
      "outputs": [
        {
          "output_type": "stream",
          "name": "stdout",
          "text": [
            "Execution time: 3.457069396972656e-05 seconds\n"
          ]
        }
      ]
    },
    {
      "cell_type": "markdown",
      "source": [
        "With respect to memory consumption, different parts of a program require different amounts of memory. In this lab we are instrested in the maximum amount of memory, or **peak memory**, because it determines an absolute resource requirement that any device that aims to run the code must meet.\n",
        "\n",
        "For this lab you could start with the **memory_info()** method of psutil Python library."
      ],
      "metadata": {
        "id": "OmBR84sR2Mqv"
      }
    },
    {
      "cell_type": "markdown",
      "source": [
        "# Review Devices"
      ],
      "metadata": {
        "id": "QeClznCFN1SZ"
      }
    },
    {
      "cell_type": "code",
      "source": [
        "import psutil, os\n",
        "\n",
        "process = psutil.Process(os.getpid())\n",
        "before = process.memory_info().rss\n",
        "\n",
        "# here goes the code you want to measure\n",
        "\n",
        "after = process.memory_info().rss\n",
        "print(f\"Memory increased by {(after - before) / 1024 / 1024:.2f} MB\")"
      ],
      "metadata": {
        "id": "KK8NEEGV3FWS",
        "colab": {
          "base_uri": "https://localhost:8080/"
        },
        "outputId": "0c6689fe-804e-441f-9218-ae474efa0c62"
      },
      "execution_count": null,
      "outputs": [
        {
          "output_type": "stream",
          "name": "stdout",
          "text": [
            "Memory increased by 0.00 MB\n"
          ]
        }
      ]
    },
    {
      "cell_type": "code",
      "source": [
        "import tensorflow as tf\n",
        "# List available GPUs\n",
        "gpus = tf.config.list_physical_devices('GPU')\n",
        "\n",
        "# Disable all GPUs\n",
        "#tf.config.set_visible_devices([], 'GPU')\n",
        "\n",
        "# Enable GPU\n",
        "tf.config.set_visible_devices(gpus[0], 'GPU')\n",
        "\n",
        "visible_devices = tf.config.get_visible_devices()\n",
        "print(visible_devices)"
      ],
      "metadata": {
        "id": "j0zuz8STN2rS"
      },
      "execution_count": null,
      "outputs": []
    },
    {
      "cell_type": "markdown",
      "metadata": {
        "id": "8PIpLax5zH7U"
      },
      "source": [
        "### TensorFlow Lite workflow"
      ]
    },
    {
      "cell_type": "markdown",
      "metadata": {
        "id": "P7yMmdHVGlBQ"
      },
      "source": [
        "We have already seen the TF Lite basic workflow in Lab 2.2. We will now use TF Lite on an embedded platform that includes a GPU device to understand its capabilities and limitations.\n",
        "\n",
        "Run the following code on the **Jetson Nano board** and on a **workstation GPU** and compare their **latencies** amd **peak memory** usage. The code **trains** and exports a TF Lite model for classifying the Fashion MNIST dataset."
      ]
    },
    {
      "cell_type": "markdown",
      "source": [
        "# 1. FMNIST\n"
      ],
      "metadata": {
        "id": "7gmHHv6p0JKe"
      }
    },
    {
      "cell_type": "code",
      "source": [
        "import tensorflow as tf\n",
        "from tensorflow.keras import layers, models\n",
        "import numpy as np\n",
        "import matplotlib.pyplot as plt\n",
        "import json\n",
        "import tracemalloc\n",
        "import psutil\n",
        "import time\n",
        "import os"
      ],
      "metadata": {
        "id": "qZQ7ZHt_0Ilf"
      },
      "execution_count": null,
      "outputs": []
    },
    {
      "cell_type": "code",
      "source": [
        "archivo = \"stats.json\"\n",
        "\n",
        "if os.path.exists(archivo):\n",
        "    with open(archivo, 'r') as f:\n",
        "        data = json.load(f)\n",
        "else:\n",
        "    datos = data = {\"exp1\": {}}\n",
        "\n",
        "exp = \"exp1\"\n",
        "device = \"Workstation\"  # or \"JetsonNano\"\n",
        "gpu = \"NO_GPU\"\n"
      ],
      "metadata": {
        "id": "v4qXmINA0PhE"
      },
      "execution_count": null,
      "outputs": []
    },
    {
      "cell_type": "code",
      "source": [
        "import struct\n",
        "import numpy as np\n",
        "import tensorflow as tf\n",
        "from tensorflow.keras import layers, models\n",
        "import os\n",
        "\n",
        "# Función para leer imágenes Fashion MNIST en formato IDX\n",
        "def load_fashion_mnist_images(filename):\n",
        "    with open(filename, 'rb') as f:\n",
        "        magic, num, rows, cols = struct.unpack(\">IIII\", f.read(16))\n",
        "        images = np.frombuffer(f.read(), dtype=np.uint8).reshape(num, rows, cols)\n",
        "        return images\n",
        "\n",
        "# Función para leer labels Fashion MNIST en formato IDX\n",
        "def load_fashion_mnist_labels(filename):\n",
        "    with open(filename, 'rb') as f:\n",
        "        magic, num = struct.unpack(\">II\", f.read(8))\n",
        "        labels = np.frombuffer(f.read(), dtype=np.uint8)\n",
        "        return labels\n",
        "\n",
        "# Base path to the Fashion MNIST dataset after downloading with kagglehub\n",
        "dataset_base_path = \"/kaggle/input/fashionmnist\"\n",
        "\n",
        "# Cargar imágenes y labels de Fashion MNIST\n",
        "train_images_path = os.path.join(dataset_base_path, \"train-images-idx3-ubyte\")\n",
        "train_labels_path = os.path.join(dataset_base_path, \"train-labels-idx1-ubyte\")\n",
        "test_images_path = os.path.join(dataset_base_path, \"t10k-images-idx3-ubyte\")\n",
        "test_labels_path = os.path.join(dataset_base_path, \"t10k-labels-idx1-ubyte\")\n",
        "\n",
        "\n",
        "train_images = load_fashion_mnist_images(train_images_path)\n",
        "train_labels = load_fashion_mnist_labels(train_labels_path)\n",
        "test_images = load_fashion_mnist_images(test_images_path)\n",
        "test_labels = load_fashion_mnist_labels(test_labels_path)\n",
        "\n",
        "# Normalize the images to the range [0, 1]\n",
        "train_images = train_images / 255.0\n",
        "test_images = test_images / 255.0\n",
        "\n",
        "# Class names for the Fashion MNIST dataset\n",
        "class_names = ['T-shirt/top', 'Trouser', 'Pullover', 'Dress', 'Coat',\n",
        "                'Sandal', 'Shirt', 'Sneaker', 'Bag', 'Ankle boot']\n",
        "\n",
        "model = models.Sequential([\n",
        "        layers.Flatten(input_shape=(28, 28)),\n",
        "        layers.Dense(128, activation='relu'),\n",
        "        layers.Dense(10, activation='softmax')\n",
        "])\n",
        "\n",
        "model.compile(optimizer='adam',\n",
        "                loss='sparse_categorical_crossentropy',\n",
        "                metrics=['accuracy'])"
      ],
      "metadata": {
        "colab": {
          "base_uri": "https://localhost:8080/"
        },
        "id": "lolLElm70Q2I",
        "outputId": "bf2ed29b-fea5-469f-c6d0-7b597064440c"
      },
      "execution_count": null,
      "outputs": [
        {
          "output_type": "stream",
          "name": "stderr",
          "text": [
            "/usr/local/lib/python3.11/dist-packages/keras/src/layers/reshaping/flatten.py:37: UserWarning: Do not pass an `input_shape`/`input_dim` argument to a layer. When using Sequential models, prefer using an `Input(shape)` object as the first layer in the model instead.\n",
            "  super().__init__(**kwargs)\n"
          ]
        }
      ]
    },
    {
      "cell_type": "markdown",
      "source": [
        "### 1.1 Measure with TF"
      ],
      "metadata": {
        "id": "7gk3n9hJBmig"
      }
    },
    {
      "cell_type": "markdown",
      "source": [
        "### Train"
      ],
      "metadata": {
        "id": "0jUUqCkpGrEg"
      }
    },
    {
      "cell_type": "code",
      "source": [
        "process = psutil.Process(os.getpid())\n",
        "before = process.memory_info().rss\n",
        "start = time.time()\n",
        "\n",
        "model.fit(train_images, train_labels, epochs=2)\n",
        "\n",
        "end = time.time()\n",
        "after = process.memory_info().rss\n",
        "after = process.memory_info().rss\n",
        "mem = (after - before) / 1024 / 1024\n",
        "\n",
        "data[exp][\"time_train_TF\"] = end - start\n",
        "data[exp][\"mem_train_TF\"] = mem\n",
        "data[exp][\"config\"] = {\n",
        "\t\"device\": device,\n",
        "\t\"gpu\": gpu,\n",
        "}\n",
        "\n",
        "print(f\"\\nTime: {(end - start):2f}[s], Memory {mem:.2f} MB\")\n",
        "print('\\nFinished model training')"
      ],
      "metadata": {
        "id": "YGHRPneNGsXw",
        "colab": {
          "base_uri": "https://localhost:8080/"
        },
        "outputId": "e1079e8e-0f42-4024-fff8-88d3fc79872e"
      },
      "execution_count": null,
      "outputs": [
        {
          "output_type": "stream",
          "name": "stdout",
          "text": [
            "Epoch 1/2\n",
            "\u001b[1m1875/1875\u001b[0m \u001b[32m━━━━━━━━━━━━━━━━━━━━\u001b[0m\u001b[37m\u001b[0m \u001b[1m5s\u001b[0m 2ms/step - accuracy: 0.8774 - loss: 0.3403\n",
            "Epoch 2/2\n",
            "\u001b[1m1875/1875\u001b[0m \u001b[32m━━━━━━━━━━━━━━━━━━━━\u001b[0m\u001b[37m\u001b[0m \u001b[1m4s\u001b[0m 2ms/step - accuracy: 0.8833 - loss: 0.3124\n",
            "\n",
            "Time: 9.468764[s], Memory 2.13 MB\n",
            "\n",
            "Finished model training\n"
          ]
        }
      ]
    },
    {
      "cell_type": "markdown",
      "source": [
        "### Train (Only Python)"
      ],
      "metadata": {
        "id": "VhDHey3NDGmX"
      }
    },
    {
      "cell_type": "code",
      "source": [
        "# Medición de memoria con tracemalloc (solo memoria Python)\n",
        "tracemalloc.start()\n",
        "before_psutil = process.memory_info().rss\n",
        "\n",
        "start = time.perf_counter()\n",
        "\n",
        "model.fit(train_images, train_labels, epochs=2)\n",
        "\n",
        "end = time.perf_counter()\n",
        "\n",
        "after_psutil = process.memory_info().rss\n",
        "current, peak = tracemalloc.get_traced_memory()\n",
        "tracemalloc.stop()\n",
        "\n",
        "mem_tracemalloc = peak / 1024 / 1024  # MB\n",
        "\n",
        "print(f\"Time: {(end - start):2f}[s], Memory peak {mem_tracemalloc:.2f} MB\")"
      ],
      "metadata": {
        "colab": {
          "base_uri": "https://localhost:8080/"
        },
        "id": "J8ZjMjdu0Stj",
        "outputId": "50528065-bd13-48cb-df6a-546286af3226"
      },
      "execution_count": null,
      "outputs": [
        {
          "output_type": "stream",
          "name": "stdout",
          "text": [
            "Epoch 1/2\n",
            "\u001b[1m1875/1875\u001b[0m \u001b[32m━━━━━━━━━━━━━━━━━━━━\u001b[0m\u001b[37m\u001b[0m \u001b[1m9s\u001b[0m 5ms/step - accuracy: 0.8927 - loss: 0.2912\n",
            "Epoch 2/2\n",
            "\u001b[1m1875/1875\u001b[0m \u001b[32m━━━━━━━━━━━━━━━━━━━━\u001b[0m\u001b[37m\u001b[0m \u001b[1m10s\u001b[0m 5ms/step - accuracy: 0.8980 - loss: 0.2788\n",
            "Time: 19.451507[s], Memory peak 359.09 MB\n"
          ]
        }
      ]
    },
    {
      "cell_type": "markdown",
      "source": [
        "### Test"
      ],
      "metadata": {
        "id": "gqDnXYKADQn4"
      }
    },
    {
      "cell_type": "code",
      "source": [
        "process = psutil.Process(os.getpid())\n",
        "before = process.memory_info().rss\n",
        "\n",
        "start = time.time()\n",
        "# test model accuracy\n",
        "test_loss, test_acc = model.evaluate(test_images, test_labels, verbose=2)\n",
        "print('\\nTest accuracy:', test_acc)\n",
        "\n",
        "end = time.perf_counter()\n",
        "after = process.memory_info().rss\n",
        "mem = (after - before) / 1024 / 1024\n",
        "\n",
        "data[exp][\"time_total_infer_TF\"] = end - start\n",
        "data[exp][\"time_avg_infer_TF\"] = (end - start)/test_images.shape[0]\n",
        "data[exp][\"mem_infer_TF\"] = mem\n",
        "print(f\"Time: {(end - start):2f}[s], avg time: {((end-start)/test_images.shape[0]):2f}[s], \\\n",
        "Memory {mem:.2f} MB\")\n",
        "\n",
        "# export model to a keras file\n",
        "model.save(\"fmnist.keras\")"
      ],
      "metadata": {
        "colab": {
          "base_uri": "https://localhost:8080/"
        },
        "id": "nesFYDZZ0ZUY",
        "outputId": "5c78b71e-cf08-407d-fdc8-d1c5be21142f"
      },
      "execution_count": null,
      "outputs": [
        {
          "output_type": "stream",
          "name": "stdout",
          "text": [
            "313/313 - 1s - 5ms/step - accuracy: 0.8787 - loss: 0.3329\n",
            "\n",
            "Test accuracy: 0.8787000179290771\n",
            "Time: -1752610538.662941[s], avg time: -175261.053866[s], Memory 39.91 MB\n"
          ]
        }
      ]
    },
    {
      "cell_type": "markdown",
      "source": [
        "### Test (Measure Only Python Memory)"
      ],
      "metadata": {
        "id": "Y5F1IdU9DTPe"
      }
    },
    {
      "cell_type": "code",
      "source": [
        "# Medición de memoria con tracemalloc (solo memoria Python)\n",
        "tracemalloc.start()\n",
        "before_psutil = process.memory_info().rss\n",
        "\n",
        "test_loss, test_acc = model.evaluate(test_images, test_labels, verbose=2)\n",
        "\n",
        "after_psutil = process.memory_info().rss\n",
        "current, peak = tracemalloc.get_traced_memory()\n",
        "tracemalloc.stop()\n",
        "\n",
        "mem_tracemalloc = peak / 1024 / 1024  # MB\n",
        "\n",
        "print(f\"Memory peak {mem_tracemalloc:.2f} MB\")"
      ],
      "metadata": {
        "colab": {
          "base_uri": "https://localhost:8080/"
        },
        "id": "gs2FsE0x0qvw",
        "outputId": "2d3b1734-ef91-4e24-daa4-ba2365c2fe48"
      },
      "execution_count": null,
      "outputs": [
        {
          "output_type": "stream",
          "name": "stdout",
          "text": [
            "313/313 - 2s - 6ms/step - accuracy: 0.8747 - loss: 0.3468\n",
            "Memory peak 59.96 MB\n"
          ]
        }
      ]
    },
    {
      "cell_type": "markdown",
      "source": [
        "Verify that the model files were exported and use them to run **inference**, both on the Jetson Nano and on a **workstation GPU** using **Tensor Flow**. Contrast **latency** and **peak memory** results too."
      ],
      "metadata": {
        "id": "b7a03KRIEED7"
      }
    },
    {
      "cell_type": "markdown",
      "source": [
        "### Review Accuracy"
      ],
      "metadata": {
        "id": "vYjT2ddVcmMr"
      }
    },
    {
      "cell_type": "code",
      "source": [
        "predictions = model.predict(test_images)\n",
        "\n",
        "# Function to plot the image, its true label, and the predicted label\n",
        "def plot_image(i, predictions_array, true_label, img):\n",
        "\ttrue_label, img = true_label[i], img[i]\n",
        "\tplt.grid(False)\n",
        "\tplt.xticks([])\n",
        "\tplt.yticks([])\n",
        "\n",
        "\tplt.imshow(img, cmap=plt.cm.binary)\n",
        "\n",
        "\tpredicted_label = np.argmax(predictions_array)\n",
        "\tif predicted_label == true_label:\n",
        "\t\tcolor = 'blue'\n",
        "\telse:\n",
        "\t\tcolor = 'red'\n",
        "\n",
        "\tplt.xlabel(f\"{class_names[predicted_label]} ({class_names[true_label]})\", color=color)\n",
        "\n",
        "def plot_value_array(i, predictions_array, true_label):\n",
        "\ttrue_label = true_label[i]\n",
        "\tplt.grid(False)\n",
        "\tplt.xticks(range(10))\n",
        "\tplt.yticks([])\n",
        "\tthisplot = plt.bar(range(10), predictions_array, color=\"#777777\")\n",
        "\tplt.ylim([0, 1])\n",
        "\tpredicted_label = np.argmax(predictions_array)\n",
        "\n",
        "\tthisplot[predicted_label].set_color('red')\n",
        "\tthisplot[true_label].set_color('blue')\n",
        "\n",
        "# Plot the first X test images, their predicted labels, and the true labels\n",
        "# Color correct predictions in blue, incorrect predictions in red\n",
        "num_rows = 5\n",
        "num_cols = 3\n",
        "num_images = num_rows * num_cols\n",
        "plt.figure(figsize=(2 * 2 * num_cols, 2 * num_rows))\n",
        "for i in range(num_images):\n",
        "\tplt.subplot(num_rows, 2 * num_cols, 2 * i + 1)\n",
        "\tplot_image(i, predictions[i], test_labels, test_images)\n",
        "\tplt.subplot(num_rows, 2 * num_cols, 2 * i + 2)\n",
        "\tplot_value_array(i, predictions[i], test_labels)\n",
        "plt.tight_layout()\n",
        "plt.show()"
      ],
      "metadata": {
        "id": "GHA8KLonFEfn",
        "colab": {
          "base_uri": "https://localhost:8080/",
          "height": 1000
        },
        "outputId": "d5ee42df-42d2-42f2-fb84-53633fb2fce3",
        "collapsed": true
      },
      "execution_count": null,
      "outputs": [
        {
          "output_type": "stream",
          "name": "stdout",
          "text": [
            "\u001b[1m313/313\u001b[0m \u001b[32m━━━━━━━━━━━━━━━━━━━━\u001b[0m\u001b[37m\u001b[0m \u001b[1m1s\u001b[0m 2ms/step\n"
          ]
        },
        {
          "output_type": "display_data",
          "data": {
            "text/plain": [
              "<Figure size 1200x1000 with 30 Axes>"
            ],
            "image/png": "[encoded data removed]"
          },
          "metadata": {}
        }
      ]
    },
    {
      "cell_type": "markdown",
      "source": [
        "### 1.2. FMNIST on TensorFlow Lite"
      ],
      "metadata": {
        "id": "KE4thxqwAxrh"
      }
    },
    {
      "cell_type": "markdown",
      "source": [
        "Finally, run **inference** with **TF Lite** on both platforms and compare with the previous execution's **latency** and **peak memory** usage."
      ],
      "metadata": {
        "id": "ZJLFW--THEnz"
      }
    },
    {
      "cell_type": "code",
      "source": [
        "# load model from a keras file\n",
        "from keras.models import load_model\n",
        "\n",
        "model = load_model(\"fmnist.keras\")"
      ],
      "metadata": {
        "id": "b6WvSyozdM2r"
      },
      "execution_count": null,
      "outputs": []
    },
    {
      "cell_type": "code",
      "source": [
        "# convert model to TF Lite\n",
        "converter = tf.lite.TFLiteConverter.from_keras_model(model)\n",
        "tflite_model = converter.convert()\n",
        "\n",
        "# save converted model to a file\n",
        "import pathlib\n",
        "tflite_model_file = pathlib.Path('fmnist.tflite')\n",
        "tflite_model_file.write_bytes(tflite_model)"
      ],
      "metadata": {
        "id": "IMZicM-FUgBf",
        "colab": {
          "base_uri": "https://localhost:8080/"
        },
        "outputId": "c275d0fc-3dc7-4a31-d860-7d2e3136b83d"
      },
      "execution_count": null,
      "outputs": [
        {
          "output_type": "stream",
          "name": "stdout",
          "text": [
            "Saved artifact at '/tmp/tmppa524cw0'. The following endpoints are available:\n",
            "\n",
            "* Endpoint 'serve'\n",
            "  args_0 (POSITIONAL_ONLY): TensorSpec(shape=(None, 28, 28), dtype=tf.float32, name='input_layer')\n",
            "Output Type:\n",
            "  TensorSpec(shape=(None, 10), dtype=tf.float32, name=None)\n",
            "Captures:\n",
            "  140567807432016: TensorSpec(shape=(), dtype=tf.resource, name=None)\n",
            "  140565123655504: TensorSpec(shape=(), dtype=tf.resource, name=None)\n",
            "  140565123656464: TensorSpec(shape=(), dtype=tf.resource, name=None)\n",
            "  140565123651472: TensorSpec(shape=(), dtype=tf.resource, name=None)\n"
          ]
        },
        {
          "output_type": "execute_result",
          "data": {
            "text/plain": [
              "409012"
            ]
          },
          "metadata": {},
          "execution_count": 6
        }
      ]
    },
    {
      "cell_type": "markdown",
      "source": [
        "## fmnist tflite ("
      ],
      "metadata": {
        "id": "jQrVTGnqGrb9"
      }
    },
    {
      "cell_type": "code",
      "source": [
        "import numpy as np\n",
        "import tensorflow as tf\n",
        "import struct\n",
        "import time, tracemalloc, os ,psutil\n",
        "\n",
        "jetson_nano_power = 10  # Watts\n",
        "\n",
        "# Función para leer imágenes MNIST en formato IDX\n",
        "def load_mnist_images(filename):\n",
        "    with open(filename, 'rb') as f:\n",
        "        magic, num, rows, cols = struct.unpack(\">IIII\", f.read(16))\n",
        "        images = np.frombuffer(f.read(), dtype=np.uint8)\n",
        "        images = images.reshape(num, rows, cols)\n",
        "        return images\n",
        "\n",
        "# Función para leer labels MNIST en formato IDX\n",
        "def load_mnist_labels(filename):\n",
        "    with open(filename, 'rb') as f:\n",
        "        magic, num = struct.unpack(\">II\", f.read(8))\n",
        "        labels = np.frombuffer(f.read(), dtype=np.uint8)\n",
        "        return labels\n",
        "\n",
        "# Cargar imágenes y labels\n",
        "# test_images = load_mnist_images(\"mnist_dataset/t10k-images.idx3-ubyte\")\n",
        "# test_labels = load_mnist_labels(\"mnist_dataset/t10k-labels.idx1-ubyte\")\n",
        "\n",
        "# Load the Fashion MNIST dataset\n",
        "(_, _), (test_images, test_labels) = fashion_mnist.load_data()\n",
        "\n",
        "# Selecciona el índice de la imagen a usar\n",
        "idx = 1\n",
        "img = test_images[idx]\n",
        "real_label = test_labels[idx]\n",
        "\n",
        "# Normalizar y dar forma para TFLite\n",
        "input_image = img.astype(np.float32) / 255.0\n",
        "input_image = np.expand_dims(input_image, axis=0)      # (1, 28, 28)\n",
        "\n",
        "print(\"Input shape for TFLite:\", input_image.shape)\n",
        "print(\"Real label:\", real_label)\n",
        "\n",
        "# Cargar el modelo TFLite\n",
        "interpreter = tf.lite.Interpreter(model_path=\"fmnist.tflite\")\n",
        "interpreter.allocate_tensors()\n",
        "\n",
        "# Obtener detalles de entrada y salida\n",
        "input_details = interpreter.get_input_details()\n",
        "output_details = interpreter.get_output_details()\n",
        "\n",
        "# Ajustar tipo de dato si es necesario\n",
        "input_image = input_image.astype(input_details[0]['dtype'])\n",
        "\n",
        "# Pasar la imagen al modelo\n",
        "interpreter.set_tensor(input_details[0]['index'], input_image)\n",
        "\n",
        "# Medición de memoria con tracemalloc (solo memoria Python)\n",
        "tracemalloc.start()\n",
        "process = psutil.Process(os.getpid())\n",
        "before_psutil = process.memory_info().rss\n",
        "\n",
        "start = time.perf_counter()\n",
        "interpreter.invoke()\n",
        "end = time.perf_counter()\n",
        "\n",
        "after_psutil = process.memory_info().rss\n",
        "current, peak = tracemalloc.get_traced_memory()\n",
        "tracemalloc.stop()\n",
        "\n",
        "mem_tracemalloc = peak / 1024 / 1024  # MB\n",
        "\n",
        "print(f\"Time: {(end - start):2f}[s], Memory peak {mem_tracemalloc:.2f} MB\")\n",
        "\n",
        "# Obtener la salida\n",
        "output_data = interpreter.get_tensor(output_details[0]['index'])\n",
        "predicted_class = np.argmax(output_data)\n",
        "\n",
        "print(\"Output:\", output_data)\n",
        "print(\"Predicted class:\", predicted_class)\n",
        "\n",
        "inference_time_tflite = end - start\n",
        "\n",
        "estimated_energy_joules = inference_time_tflite * jetson_nano_power\n",
        "estimated_energy_watt_hours = estimated_energy_joules / 3600  # Convert Joules to Watt-hours\n",
        "\n",
        "print(f\"Estimated Energy Consumption (Workstation GPU): {estimated_energy_joules:.4f} Joules ({estimated_energy_watt_hours:.6f} Wh)\")"
      ],
      "metadata": {
        "id": "IuEPWX1i98Au"
      },
      "execution_count": null,
      "outputs": []
    },
    {
      "cell_type": "markdown",
      "metadata": {
        "id": "B7k1FsSjhAYt"
      },
      "source": [
        "# CNNs on Tensor Flow Lite"
      ]
    },
    {
      "cell_type": "markdown",
      "source": [
        "Now it's your turn to develop a TF Lite application. This time make sure you train a convolutional model to classify images from a different dataset you choose from Kaggle, Roboflow, Hugging Face or similar, not Mnist, Fashion Mnist nor ImageNet. Now, performance evaluation will focus only on **inference**.\n",
        "\n",
        "Use the Jetson Board and the workstation to run inference both with Tensor Flow and TF Lite. Measure the **peak memory** and **time** and estimate the **energy** consumed based on the nominal power consumption of each system or chip."
      ],
      "metadata": {
        "id": "Cg_QXRTyIRRp"
      }
    },
    {
      "cell_type": "markdown",
      "source": [
        "Repeat the experiments without using a GPU and compare the results. Use the following code to disable GPU use in TensorFlow."
      ],
      "metadata": {
        "id": "_Ib0RDTL4ugB"
      }
    },
    {
      "cell_type": "markdown",
      "source": [
        "Again, consolidate all results in one or more tables or plots and write down your conclusions."
      ],
      "metadata": {
        "id": "XRyAL6124rS4"
      }
    },
    {
      "cell_type": "markdown",
      "source": [
        "## 2.1. CNN TensorFlow"
      ],
      "metadata": {
        "id": "m_O8HS8V_OEb"
      }
    },
    {
      "cell_type": "code",
      "source": [
        "import tensorflow as tf\n",
        "\n",
        "# List available GPUs\n",
        "gpus = tf.config.list_physical_devices('GPU')\n",
        "\n",
        "# Disable all GPUs\n",
        "#tf.config.set_visible_devices([], 'GPU')\n",
        "\n",
        "gpus = tf.config.list_physical_devices('GPU')\n",
        "if gpus:\n",
        "    try:\n",
        "        for gpu in gpus:\n",
        "            tf.config.experimental.set_memory_growth(gpu, True)\n",
        "        print(\"GPU memory growth enabled.\")\n",
        "    except RuntimeError as e:\n",
        "        print(\"Memory growth setup failed:\", e)"
      ],
      "metadata": {
        "id": "LqIQ-ptk4oBB",
        "colab": {
          "base_uri": "https://localhost:8080/"
        },
        "outputId": "9da64cb1-4d7b-466d-8230-23cf5429b8ae",
        "collapsed": true
      },
      "execution_count": null,
      "outputs": [
        {
          "output_type": "stream",
          "name": "stdout",
          "text": [
            "❌ Memory growth setup failed: Physical devices cannot be modified after being initialized\n"
          ]
        }
      ]
    },
    {
      "cell_type": "markdown",
      "source": [
        "### Load and Download CNN Dataset (Only Colab!)"
      ],
      "metadata": {
        "id": "sukp8Go5_u4o"
      }
    },
    {
      "cell_type": "code",
      "source": [
        "import kagglehub\n",
        "\n",
        "# Download latest version\n",
        "path = kagglehub.dataset_download(\"drgfreeman/rockpaperscissors\")\n",
        "\n",
        "print(\"Path to dataset files:\", path)"
      ],
      "metadata": {
        "colab": {
          "base_uri": "https://localhost:8080/"
        },
        "id": "hlynws8MTT8S",
        "outputId": "b115496e-58a7-457c-d6fc-d0f48064c542"
      },
      "execution_count": null,
      "outputs": [
        {
          "output_type": "stream",
          "name": "stdout",
          "text": [
            "Downloading from https://www.kaggle.com/api/v1/datasets/download/drgfreeman/rockpaperscissors?dataset_version_number=2...\n"
          ]
        },
        {
          "output_type": "stream",
          "name": "stderr",
          "text": [
            "100%|██████████| 306M/306M [00:04<00:00, 78.9MB/s]"
          ]
        },
        {
          "output_type": "stream",
          "name": "stdout",
          "text": [
            "Extracting files...\n"
          ]
        },
        {
          "output_type": "stream",
          "name": "stderr",
          "text": [
            "\n"
          ]
        },
        {
          "output_type": "stream",
          "name": "stdout",
          "text": [
            "Path to dataset files: /root/.cache/kagglehub/datasets/drgfreeman/rockpaperscissors/versions/2\n"
          ]
        }
      ]
    },
    {
      "cell_type": "code",
      "source": [
        "# mueve el dataset a la carpeta /content\n",
        "\n",
        "!mv /root/.cache/kagglehub/datasets/drgfreeman/rockpaperscissors/* /content/"
      ],
      "metadata": {
        "id": "liObIeWIT2Po"
      },
      "execution_count": null,
      "outputs": []
    },
    {
      "cell_type": "code",
      "source": [
        "# prompt: download a folder a zip file from the folder /content/\n",
        "\n",
        "import shutil\n",
        "\n",
        "# Zip the desired folder\n",
        "shutil.make_archive(\"dataset\", \"zip\", \"/content/versions/\")\n",
        "\n",
        "# Download the zip file\n",
        "from google.colab import files\n",
        "files.download(\"dataset.zip\")"
      ],
      "metadata": {
        "colab": {
          "base_uri": "https://localhost:8080/",
          "height": 17
        },
        "id": "pULbwuX86C1h",
        "outputId": "3aa64b37-0171-4840-93d6-8cb66395037b"
      },
      "execution_count": null,
      "outputs": [
        {
          "output_type": "display_data",
          "data": {
            "text/plain": [
              "<IPython.core.display.Javascript object>"
            ],
            "application/javascript": [
              "\n",
              "    async function download(id, filename, size) {\n",
              "      if (!google.colab.kernel.accessAllowed) {\n",
              "        return;\n",
              "      }\n",
              "      const div = document.createElement('div');\n",
              "      const label = document.createElement('label');\n",
              "      label.textContent = `Downloading \"${filename}\": `;\n",
              "      div.appendChild(label);\n",
              "      const progress = document.createElement('progress');\n",
              "      progress.max = size;\n",
              "      div.appendChild(progress);\n",
              "      document.body.appendChild(div);\n",
              "\n",
              "      const buffers = [];\n",
              "      let downloaded = 0;\n",
              "\n",
              "      const channel = await google.colab.kernel.comms.open(id);\n",
              "      // Send a message to notify the kernel that we're ready.\n",
              "      channel.send({})\n",
              "\n",
              "      for await (const message of channel.messages) {\n",
              "        // Send a message to notify the kernel that we're ready.\n",
              "        channel.send({})\n",
              "        if (message.buffers) {\n",
              "          for (const buffer of message.buffers) {\n",
              "            buffers.push(buffer);\n",
              "            downloaded += buffer.byteLength;\n",
              "            progress.value = downloaded;\n",
              "          }\n",
              "        }\n",
              "      }\n",
              "      const blob = new Blob(buffers, {type: 'application/binary'});\n",
              "      const a = document.createElement('a');\n",
              "      a.href = window.URL.createObjectURL(blob);\n",
              "      a.download = filename;\n",
              "      div.appendChild(a);\n",
              "      a.click();\n",
              "      div.remove();\n",
              "    }\n",
              "  "
            ]
          },
          "metadata": {}
        },
        {
          "output_type": "display_data",
          "data": {
            "text/plain": [
              "<IPython.core.display.Javascript object>"
            ],
            "application/javascript": [
              "download(\"download_610b408e-e03d-4a2f-a23a-fc1fc26f51b7\", \"dataset.zip\", 320559274)"
            ]
          },
          "metadata": {}
        }
      ]
    },
    {
      "cell_type": "markdown",
      "source": [
        "### Load and Overview CNN Dataset"
      ],
      "metadata": {
        "id": "flRj5pV6_-tH"
      }
    },
    {
      "cell_type": "code",
      "source": [
        "import numpy as np\n",
        "import os\n",
        "import shutil\n",
        "\n",
        "# Define the base directory where the dataset is located\n",
        "base_dir = '/content/versions/2'\n",
        "\n",
        "# Define the directories for the original data\n",
        "paper_dir = os.path.join(base_dir, 'paper')\n",
        "rock_dir = os.path.join(base_dir, 'rock')\n",
        "scissors_dir = os.path.join(base_dir, 'scissors')\n",
        "\n",
        "# Define the directories for the training and testing data\n",
        "train_dir = os.path.join(base_dir, 'rps_train')\n",
        "test_dir = os.path.join(base_dir, 'rps_test')\n",
        "\n",
        "train_paper_dir = os.path.join(train_dir, 'paper')\n",
        "train_rock_dir = os.path.join(train_dir, 'rock')\n",
        "train_scissors_dir = os.path.join(train_dir, 'scissors')\n",
        "\n",
        "test_paper_dir = os.path.join(test_dir, 'paper')\n",
        "test_rock_dir = os.path.join(test_dir, 'rock')\n",
        "test_scissors_dir = os.path.join(test_dir, 'scissors')\n",
        "\n",
        "# Create the training and testing directories\n",
        "os.makedirs(train_paper_dir, exist_ok=True)\n",
        "os.makedirs(train_rock_dir, exist_ok=True)\n",
        "os.makedirs(train_scissors_dir, exist_ok=True)\n",
        "\n",
        "os.makedirs(test_paper_dir, exist_ok=True)\n",
        "os.makedirs(test_rock_dir, exist_ok=True)\n",
        "os.makedirs(test_scissors_dir, exist_ok=True)\n",
        "\n",
        "# Function to split data\n",
        "def split_data(source_dir, train_dir, test_dir, split_size):\n",
        "    files = os.listdir(source_dir)\n",
        "    # Filter out non-image files if necessary (e.g., .DS_Store)\n",
        "    files = [f for f in files if os.path.isfile(os.path.join(source_dir, f))]\n",
        "    # Shuffle the files to ensure random splitting\n",
        "    np.random.shuffle(files)\n",
        "\n",
        "    split_index = int(len(files) * split_size)\n",
        "    train_files = files[:split_index]\n",
        "    test_files = files[split_index:]\n",
        "\n",
        "    # Copy files to the training directory\n",
        "    for f in train_files:\n",
        "        shutil.copy(os.path.join(source_dir, f), train_dir)\n",
        "\n",
        "    # Copy files to the testing directory\n",
        "    for f in test_files:\n",
        "        shutil.copy(os.path.join(source_dir, f), test_dir)\n",
        "\n",
        "# Define the split ratio (e.g., 80% for training, 20% for testing)\n",
        "split_size = 0.8\n",
        "\n",
        "# Split the data for each class\n",
        "split_data(paper_dir, train_paper_dir, test_paper_dir, split_size)\n",
        "split_data(rock_dir, train_rock_dir, test_rock_dir, split_size)\n",
        "split_data(scissors_dir, train_scissors_dir, test_scissors_dir, split_size)\n",
        "\n",
        "print(f\"Splitting complete. Data moved to {train_dir} and {test_dir}\")\n",
        "print(f\"Number of training paper images: {len(os.listdir(train_paper_dir))}\")\n",
        "print(f\"Number of testing paper images: {len(os.listdir(test_paper_dir))}\")\n",
        "print(f\"Number of training rock images: {len(os.listdir(train_rock_dir))}\")\n",
        "print(f\"Number of testing rock images: {len(os.listdir(test_rock_dir))}\")\n",
        "print(f\"Number of training scissors images: {len(os.listdir(train_scissors_dir))}\")\n",
        "print(f\"Number of testing scissors images: {len(os.listdir(test_scissors_dir))}\")\n"
      ],
      "metadata": {
        "colab": {
          "base_uri": "https://localhost:8080/"
        },
        "id": "nyhIJ4AnUZfI",
        "outputId": "8c66bc91-c880-469d-fdbc-2ccd7240c56f"
      },
      "execution_count": null,
      "outputs": [
        {
          "output_type": "stream",
          "name": "stdout",
          "text": [
            "Splitting complete. Data moved to /content/versions/2/rps_train and /content/versions/2/rps_test\n",
            "Number of training paper images: 569\n",
            "Number of testing paper images: 143\n",
            "Number of training rock images: 580\n",
            "Number of testing rock images: 146\n",
            "Number of training scissors images: 600\n",
            "Number of testing scissors images: 150\n"
          ]
        }
      ]
    },
    {
      "cell_type": "markdown",
      "source": [
        "### Preprocess CNN Dataset"
      ],
      "metadata": {
        "id": "u0l_8OSjAEph"
      }
    },
    {
      "cell_type": "code",
      "source": [
        "import tensorflow as tf\n",
        "\n",
        "batch_size = 32\n",
        "img_height = 150\n",
        "img_width = 150\n",
        "# Use ´test_ds = tf.keras.preprocessing.image_dataset_from_directory' in TF 2.4\n",
        "# TODO: Change utils by 'preprocessing' if TF = 2.4\n",
        "train_ds = tf.keras.utils.image_dataset_from_directory(\n",
        "  train_dir,\n",
        "  labels='inferred',\n",
        "  label_mode='int',\n",
        "  image_size=(img_height, img_width),\n",
        "  interpolation='nearest',\n",
        "  batch_size=batch_size)\n",
        "\n",
        "test_ds = tf.keras.utils.image_dataset_from_directory(\n",
        "  test_dir,\n",
        "  labels='inferred',\n",
        "  label_mode='int',\n",
        "  image_size=(img_height, img_width),\n",
        "  interpolation='nearest',\n",
        "  batch_size=batch_size)\n",
        "\n",
        "class_names = train_ds.class_names\n",
        "print(class_names)\n",
        "\n",
        "AUTOTUNE = tf.data.AUTOTUNE\n",
        "\n",
        "train_ds = train_ds.cache().prefetch(buffer_size=AUTOTUNE)\n",
        "test_ds = test_ds.cache().prefetch(buffer_size=AUTOTUNE)"
      ],
      "metadata": {
        "colab": {
          "base_uri": "https://localhost:8080/"
        },
        "id": "xkPMrIwKWi-o",
        "outputId": "cd1f7a89-15c5-4360-b1e3-8c66db7579cb"
      },
      "execution_count": null,
      "outputs": [
        {
          "output_type": "stream",
          "name": "stdout",
          "text": [
            "Found 1749 files belonging to 3 classes.\n",
            "Found 439 files belonging to 3 classes.\n",
            "['paper', 'rock', 'scissors']\n"
          ]
        }
      ]
    },
    {
      "cell_type": "markdown",
      "source": [
        "### Train CNN Model"
      ],
      "metadata": {
        "id": "xybYJ6iZACFv"
      }
    },
    {
      "cell_type": "code",
      "source": [
        "import tensorflow as tf\n",
        "import numpy as np\n",
        "from tensorflow.keras.models import Sequential\n",
        "from tensorflow.keras.layers import Conv2D, MaxPooling2D, Flatten, Dense\n",
        "\n",
        "# create model\n",
        "model = Sequential([\n",
        "    Conv2D(32, (3, 3), activation='relu', input_shape=(150, 150, 3)),\n",
        "    MaxPooling2D((2, 2)),\n",
        "    Conv2D(64, (3, 3), activation='relu'),\n",
        "    MaxPooling2D((2, 2)),\n",
        "    Conv2D(128, (3, 3), activation='relu'),\n",
        "    MaxPooling2D((2, 2)),\n",
        "    Flatten(),\n",
        "    Dense(512, activation='relu'),\n",
        "    Dense(3, activation='softmax')\n",
        "])\n",
        "\n",
        "# compile model\n",
        "model.compile(optimizer='adam', loss='sparse_categorical_crossentropy', metrics=['accuracy'])\n",
        "\n",
        "# fit model\n",
        "history = model.fit(\n",
        "    train_ds,\n",
        "    epochs=5\n",
        ")\n",
        "\n"
      ],
      "metadata": {
        "colab": {
          "base_uri": "https://localhost:8080/"
        },
        "id": "A6pbIyBzVTMo",
        "outputId": "94c4808d-747d-4e9a-d3ad-d539cc4aa4fc"
      },
      "execution_count": null,
      "outputs": [
        {
          "output_type": "stream",
          "name": "stderr",
          "text": [
            "/usr/local/lib/python3.11/dist-packages/keras/src/layers/convolutional/base_conv.py:107: UserWarning: Do not pass an `input_shape`/`input_dim` argument to a layer. When using Sequential models, prefer using an `Input(shape)` object as the first layer in the model instead.\n",
            "  super().__init__(activity_regularizer=activity_regularizer, **kwargs)\n"
          ]
        },
        {
          "output_type": "stream",
          "name": "stdout",
          "text": [
            "Epoch 1/10\n",
            "\u001b[1m55/55\u001b[0m \u001b[32m━━━━━━━━━━━━━━━━━━━━\u001b[0m\u001b[37m\u001b[0m \u001b[1m11s\u001b[0m 97ms/step - accuracy: 0.4927 - loss: 189.1671\n",
            "Epoch 2/10\n",
            "\u001b[1m55/55\u001b[0m \u001b[32m━━━━━━━━━━━━━━━━━━━━\u001b[0m\u001b[37m\u001b[0m \u001b[1m2s\u001b[0m 21ms/step - accuracy: 0.8823 - loss: 0.3639\n",
            "Epoch 3/10\n",
            "\u001b[1m55/55\u001b[0m \u001b[32m━━━━━━━━━━━━━━━━━━━━\u001b[0m\u001b[37m\u001b[0m \u001b[1m1s\u001b[0m 21ms/step - accuracy: 0.9572 - loss: 0.1355\n",
            "Epoch 4/10\n",
            "\u001b[1m55/55\u001b[0m \u001b[32m━━━━━━━━━━━━━━━━━━━━\u001b[0m\u001b[37m\u001b[0m \u001b[1m1s\u001b[0m 21ms/step - accuracy: 0.9362 - loss: 0.2090\n",
            "Epoch 5/10\n",
            "\u001b[1m55/55\u001b[0m \u001b[32m━━━━━━━━━━━━━━━━━━━━\u001b[0m\u001b[37m\u001b[0m \u001b[1m1s\u001b[0m 21ms/step - accuracy: 0.9578 - loss: 0.1290\n",
            "Epoch 6/10\n",
            "\u001b[1m55/55\u001b[0m \u001b[32m━━━━━━━━━━━━━━━━━━━━\u001b[0m\u001b[37m\u001b[0m \u001b[1m1s\u001b[0m 21ms/step - accuracy: 0.9697 - loss: 0.0801\n",
            "Epoch 7/10\n",
            "\u001b[1m55/55\u001b[0m \u001b[32m━━━━━━━━━━━━━━━━━━━━\u001b[0m\u001b[37m\u001b[0m \u001b[1m1s\u001b[0m 21ms/step - accuracy: 0.9874 - loss: 0.0280\n",
            "Epoch 8/10\n",
            "\u001b[1m55/55\u001b[0m \u001b[32m━━━━━━━━━━━━━━━━━━━━\u001b[0m\u001b[37m\u001b[0m \u001b[1m1s\u001b[0m 21ms/step - accuracy: 0.9949 - loss: 0.0109\n",
            "Epoch 9/10\n",
            "\u001b[1m55/55\u001b[0m \u001b[32m━━━━━━━━━━━━━━━━━━━━\u001b[0m\u001b[37m\u001b[0m \u001b[1m1s\u001b[0m 22ms/step - accuracy: 0.9989 - loss: 0.0076\n",
            "Epoch 10/10\n",
            "\u001b[1m55/55\u001b[0m \u001b[32m━━━━━━━━━━━━━━━━━━━━\u001b[0m\u001b[37m\u001b[0m \u001b[1m1s\u001b[0m 21ms/step - accuracy: 0.9990 - loss: 0.0050\n"
          ]
        }
      ]
    },
    {
      "cell_type": "markdown",
      "source": [
        "### Test"
      ],
      "metadata": {
        "id": "3W9FcQJsZBJr"
      }
    },
    {
      "cell_type": "code",
      "source": [
        "# evalute model\n",
        "process = psutil.Process(os.getpid())\n",
        "before = process.memory_info().rss\n",
        "start = time.time()\n",
        "\n",
        "test_loss, test_acc = model.evaluate(test_ds)\n",
        "\n",
        "end = time.time()\n",
        "after = process.memory_info().rss\n",
        "mem = (after - before) / 1024 / 1024\n",
        "\n",
        "print('Test accuracy:', test_acc)\n",
        "print(f\"\\nTime: {(end - start):2f}[s], Memory {mem:.2f} MB\")"
      ],
      "metadata": {
        "colab": {
          "base_uri": "https://localhost:8080/"
        },
        "id": "AxHWa7F5ZXAg",
        "outputId": "00828b79-b6f6-479d-b2f0-164cea52ac7a"
      },
      "execution_count": null,
      "outputs": [
        {
          "output_type": "stream",
          "name": "stdout",
          "text": [
            "\u001b[1m14/14\u001b[0m \u001b[32m━━━━━━━━━━━━━━━━━━━━\u001b[0m\u001b[37m\u001b[0m \u001b[1m2s\u001b[0m 89ms/step - accuracy: 0.9821 - loss: 0.0865\n",
            "Test accuracy: 0.9772209525108337\n"
          ]
        }
      ]
    },
    {
      "cell_type": "markdown",
      "source": [
        "### Test (Only Python)"
      ],
      "metadata": {
        "id": "_C06_StYY_WX"
      }
    },
    {
      "cell_type": "code",
      "source": [
        "# evalute model\n",
        "tracemalloc.start()\n",
        "before_psutil = process.memory_info().rss\n",
        "\n",
        "start = time.perf_counter()\n",
        "\n",
        "test_loss, test_acc = model.evaluate(test_ds)\n",
        "print('Test accuracy:', test_acc)\n",
        "\n",
        "end = time.perf_counter()\n",
        "\n",
        "after_psutil = process.memory_info().rss\n",
        "current, peak = tracemalloc.get_traced_memory()\n",
        "tracemalloc.stop()\n",
        "\n",
        "mem_tracemalloc = peak / 1024 / 1024  # MB\n",
        "\n",
        "print(f\"Time: {(end - start):2f}[s], Memory peak {mem_tracemalloc:.2f} MB\")"
      ],
      "metadata": {
        "id": "0BEEz5x2Y9iG"
      },
      "execution_count": null,
      "outputs": []
    },
    {
      "cell_type": "code",
      "source": [
        "# load model\n",
        "from keras.models import load_model\n",
        "\n",
        "model = load_model(\"rps.keras\")"
      ],
      "metadata": {
        "id": "ayJ7ZPeBgGvp"
      },
      "execution_count": null,
      "outputs": []
    },
    {
      "cell_type": "markdown",
      "source": [
        "## 2.2. CNN TensorFlow Lite"
      ],
      "metadata": {
        "id": "RUExGDb40xgQ"
      }
    },
    {
      "cell_type": "code",
      "source": [
        "import tensorflow as tf\n",
        "import numpy as np\n",
        "from PIL import Image\n",
        "import time\n",
        "import psutil, os\n",
        "\n",
        "jetson_nano_power = 10  # Watts\n",
        "# Load your test image (replace 'path/to/your/test_image.jpg' with the actual path)\n",
        "#image_path = 'dataset/rps_test/paper/4IwJ2iL6pFz5ARWA.png' # Example path, change as needed\n",
        "#image_path = 'dataset/rps_test/rock/1BqjHe5igJAgUjiN.png' # Example path, change as needed\n",
        "image_path = 'dataset/rps_test/scissors/0CSaM2vL2cWX6Cay.png' # Example path, change as needed\n",
        "img = Image.open(image_path).convert('RGB') # Ensure image is in RGB format\n",
        "\n",
        "img = img.resize((150, 150))\n",
        "input_image = np.array(img, dtype=np.float32)\n",
        "input_image = np.expand_dims(input_image, axis=0) # Add batch dimension\n",
        "tflite_model_file = \"rps\"\n",
        "# Load TFLite model and allocate tensors.\n",
        "interpreter = tf.lite.Interpreter(model_path=tflite_model_file+\".tflite\")\n",
        "interpreter.allocate_tensors()\n",
        "\n",
        "# Get input and output tensors.\n",
        "input_details = interpreter.get_input_details()\n",
        "output_details = interpreter.get_output_details()\n",
        "print(input_details)\n",
        "print(output_details)\n",
        "\n",
        "# Set the input tensor\n",
        "interpreter.set_tensor(input_details[0]['index'], input_image)\n",
        "\n",
        "start = time.time()\n",
        "process = psutil.Process(os.getpid())\n",
        "before = process.memory_info().rss\n",
        "\n",
        "# Run the inference\n",
        "interpreter.invoke()\n",
        "\n",
        "# Get the output tensor\n",
        "output_data = interpreter.get_tensor(output_details[0]['index'])\n",
        "\n",
        "end = time.time()\n",
        "after = process.memory_info().rss\n",
        "mem = (after - before) / 1024 / 1024\n",
        "\n",
        "print(f\"Time: {(end - start):2f}[s], Memory {mem:.2f} MB\")\n",
        "\n",
        "# Print the output\n",
        "print(\"Output:\", output_data)\n",
        "\n",
        "# Optionally, you can get the predicted class\n",
        "predicted_class_index = np.argmax(output_data)\n",
        "\n",
        "# class names to interpret the result\n",
        "class_names = ['paper', 'rock', 'scissors'] # Replace with your actual class names\n",
        "predicted_class_name = class_names[predicted_class_index]\n",
        "print(\"Predicted class:\", predicted_class_name)\n",
        "\n",
        "\n",
        "inference_time_tflite = end - start\n",
        "\n",
        "estimated_energy_joules = inference_time_tflite * jetson_nano_power\n",
        "estimated_energy_watt_hours = estimated_energy_joules / 3600  # Convert Joules to Watt-hours\n",
        "\n",
        "print(f\"Estimated Energy Consumption (jetson GPU): {estimated_energy_joules:.4f} Joules ({estimated_energy_watt_hours:.6f} Wh)\")"
      ],
      "metadata": {
        "id": "ZHNhyyVHGqde"
      },
      "execution_count": null,
      "outputs": []
    },
    {
      "cell_type": "markdown",
      "source": [
        "XLA (Álgebra Lineal Acelerada) is the open source compiler used to optimize the opperations used in the GPU. According to a simple tensorflow import in the jetson, we noticed that the GPU was recognized, but the XLA devices were not set. It means that it won't optimize the operations."
      ],
      "metadata": {
        "id": "BLgJcd5IuriZ"
      }
    },
    {
      "cell_type": "markdown",
      "source": [
        "![image.png](data:image/png;base64,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)"
      ],
      "metadata": {
        "id": "2agCRigfuptA"
      }
    },
    {
      "cell_type": "markdown",
      "source": [
        "# Results"
      ],
      "metadata": {
        "id": "5w43epCo9pUH"
      }
    },
    {
      "cell_type": "markdown",
      "source": [
        "FMNIST:\n"
      ],
      "metadata": {
        "id": "5NCp8V7k9tCm"
      }
    },
    {
      "cell_type": "markdown",
      "source": [
        "\n",
        "\n",
        "| Metric   | JetsonNano TF | JetsonNano TF Lite | Workstation TF | Workstation TF Lite |\n",
        "|----------|---------------|---------------------|----------------|----------------------|\n",
        "| Time Train    | x | x | |  x |\n",
        "| Time Train GPU   |x |x  | 10.45   |  x   |\n",
        "| Time Test    |1.621518| 0.000217 | 0.494   |   0.000145    |\n",
        "| Time Test GPU   |  7.887850  | 0.000223|  0.403582 | 0.000158|\n",
        "| Memory Train  |  x |   x |  |          x            |\n",
        "| Memory Train GPU   | x |x  | 382.70  |   x    |\n",
        "| Memory Test  | 39.67  | 0.05   | 29.54    | 0.01|\n",
        "| Memory Test GPU   | 0.000789 | 0.000223  |  0.000040 |   0.01    |\n",
        "\n",
        "**Table 1. Measurements in fmnist**"
      ],
      "metadata": {
        "id": "TTSDNV8jEDgD"
      }
    },
    {
      "cell_type": "markdown",
      "source": [
        "\n",
        "CNN Rock Scissor Paper [Time, Peak Memory, Energy]:\n",
        "\n"
      ],
      "metadata": {
        "id": "qJww5-sQEInA"
      }
    },
    {
      "cell_type": "markdown",
      "source": [
        "\n",
        "| Metric   | JetsonNano TF | JetsonNano TF Lite | Workstation TF | Workstation TF Lite |\n",
        "|----------|---------------|---------------------|----------------|----------------------|\n",
        "| Time     | 209.588    | 0.0929|   3.59144    | 0.027424                     |\n",
        "| Memory   | 1.17  |81.18  |  0.09    |    72.50      |\n",
        "| Energy   | 0.5821  |0.000258  | 0.02494   |   0.001905     |\n",
        "| Time GPU    | 70.56 (0.106) |0.581855 |  26.311746  | 0.03422     |\n",
        "| Memory GPU | 1.23  | 80.54  | 2.16  |   82.25   |\n",
        "| Energy GPU |  0.1959  | 0.002039  |0.001905                |0.002039       |\n",
        "\n",
        "**Table 2. Measurements in devices with GPU**"
      ],
      "metadata": {
        "id": "qHwJ_kxPDqgs"
      }
    }
  ],
  "metadata": {
    "colab": {
      "provenance": []
    },
    "kernelspec": {
      "display_name": "Python 3",
      "name": "python3"
    },
    "language_info": {
      "name": "python"
    }
  },
  "nbformat": 4,
  "nbformat_minor": 0
}