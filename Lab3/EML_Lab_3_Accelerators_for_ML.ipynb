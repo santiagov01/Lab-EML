{
 "cells": [
  {
   "cell_type": "markdown",
   "metadata": {
    "id": "7SFBFiQlYlva"
   },
   "source": [
    "# Embedded ML - Lab 3: Accelerators for ML"
   ]
  },
  {
   "cell_type": "markdown",
   "metadata": {
    "id": "DTNEs3wxwHHO"
   },
   "source": [
    "Tensor Flow Lite is not only a vehicle to export models to be used in Tensor Flow Lite Micro. It's also an interpreter to run inference on devices that have less resources than servers or standard computers, such as mobile phones, drones, network cameras, etc. In this lab we will use TF Lite to implement an ML application on an embedded platform that features a GPU."
   ]
  },
  {
   "cell_type": "markdown",
   "metadata": {
    "id": "lQK0RRRuY3rJ"
   },
   "source": [
    "### Learning outcomes\n",
    "\n",
    "\n",
    "* Explain the differences between a Tensor Flow and a TF Lite environment\n",
    "* Use the TF Lite API to implement an ML application on an embedded GPU\n",
    "* Understand the performance differences between TF and TF Lite\n",
    "* Understand the performance differences between embedded and higher-end GPUs\n",
    "* Use tools for execution time and memory measurement"
   ]
  },
  {
   "cell_type": "markdown",
   "metadata": {
    "id": "l8wat6Kxul5R"
   },
   "source": [
    "### Basic performance measurement"
   ]
  },
  {
   "cell_type": "markdown",
   "metadata": {
    "id": "A3LWGJXAzVF1"
   },
   "source": [
    "In this lab you'll be required to measure the execution **time** and **memory** consumption of certain code sequences. There are many ways of achieving this and you are encouraged to investigate yourself a bit what options are available and how they differ from each other.\n",
    "\n",
    "When measuring **execution time**, you should think and decide what is the piece of code you are really interested in measuring, and your conclusions must take that into account. Also notice that the shorter time the code takes, the less accurate can be the measurement because any other thing happening in the system will be a significant noise. Besides using more specialized libraries for accurate time measuring, one common trick you can use is to run a short piece of code many times in a loop, measuring the total loop time and diving by the number of iterations. For this lab you could start with the **time.time()** method of the time Python library."
   ]
  },
  {
   "cell_type": "code",
   "execution_count": 49,
   "metadata": {
    "id": "xg5VXTVd1-VW"
   },
   "outputs": [
    {
     "name": "stdout",
     "output_type": "stream",
     "text": [
      "Execution time: 0.0 seconds\n"
     ]
    }
   ],
   "source": [
    "import time\n",
    "\n",
    "start = time.time()\n",
    "\n",
    "# here goes the code you want to measure\n",
    "\n",
    "end = time.time()\n",
    "print(\"Execution time:\", end - start, \"seconds\")"
   ]
  },
  {
   "cell_type": "markdown",
   "metadata": {
    "id": "OmBR84sR2Mqv"
   },
   "source": [
    "With respect to memory consumption, different parts of a program require different amounts of memory. In this lab we are instrested in the maximum amount of memory, or **peak memory**, because it determines an absolute resource requirement that any device that aims to run the code must meet.\n",
    "\n",
    "For this lab you could start with the **memory_info()** method of psutil Python library."
   ]
  },
  {
   "cell_type": "code",
   "execution_count": 50,
   "metadata": {
    "id": "KK8NEEGV3FWS"
   },
   "outputs": [
    {
     "name": "stdout",
     "output_type": "stream",
     "text": [
      "Memory increased by 0.00 MB\n"
     ]
    }
   ],
   "source": [
    "import psutil, os\n",
    "\n",
    "process = psutil.Process(os.getpid())\n",
    "before = process.memory_info().rss\n",
    "\n",
    "# here goes the code you want to measure\n",
    "\n",
    "after = process.memory_info().rss\n",
    "print(f\"Memory increased by {(after - before) / 1024 / 1024:.2f} MB\")"
   ]
  },
  {
   "cell_type": "markdown",
   "metadata": {
    "id": "8PIpLax5zH7U"
   },
   "source": [
    "### TensorFlow Lite workflow"
   ]
  },
  {
   "cell_type": "markdown",
   "metadata": {
    "id": "P7yMmdHVGlBQ"
   },
   "source": [
    "We have already seen the TF Lite basic workflow in Lab 2.2. We will now use TF Lite on an embedded platform that includes a GPU device to understand its capabilities and limitations.\n",
    "\n",
    "Run the following code on the **Jetson Nano board** and on a **workstation GPU** and compare their **latencies** amd **peak memory** usage. The code **trains** and exports a TF Lite model for classifying the Fashion MNIST dataset."
   ]
  },
  {
   "cell_type": "code",
   "execution_count": 51,
   "metadata": {},
   "outputs": [],
   "source": [
    "import tensorflow as tf\n",
    "from tensorflow.keras import layers, models\n",
    "import numpy as np\n",
    "import matplotlib.pyplot as plt\n",
    "import json"
   ]
  },
  {
   "cell_type": "code",
   "execution_count": 52,
   "metadata": {},
   "outputs": [],
   "source": [
    "archivo = \"stats.json\"\n",
    "\n",
    "if os.path.exists(archivo):\n",
    "    with open(archivo, 'r') as f:\n",
    "        data = json.load(f)\n",
    "else:\n",
    "    datos = data = {\"exp1\": {}}\n",
    "    \n",
    "exp = \"exp1\"\n",
    "device = \"Workstation\"  # or \"JetsonNano\"\n",
    "gpu = \"NO_GPU\"\n"
   ]
  },
  {
   "cell_type": "code",
   "execution_count": 53,
   "metadata": {
    "id": "T52CGZIKD9fL"
   },
   "outputs": [
    {
     "name": "stderr",
     "output_type": "stream",
     "text": [
      "C:\\Users\\Santiago\\AppData\\Local\\Packages\\PythonSoftwareFoundation.Python.3.11_qbz5n2kfra8p0\\LocalCache\\local-packages\\Python311\\site-packages\\keras\\src\\layers\\reshaping\\flatten.py:37: UserWarning: Do not pass an `input_shape`/`input_dim` argument to a layer. When using Sequential models, prefer using an `Input(shape)` object as the first layer in the model instead.\n",
      "  super().__init__(**kwargs)\n"
     ]
    },
    {
     "name": "stdout",
     "output_type": "stream",
     "text": [
      "Epoch 1/2\n",
      "\u001b[1m1875/1875\u001b[0m \u001b[32m━━━━━━━━━━━━━━━━━━━━\u001b[0m\u001b[37m\u001b[0m \u001b[1m9s\u001b[0m 4ms/step - accuracy: 0.7832 - loss: 0.6220\n",
      "Epoch 2/2\n",
      "\u001b[1m1875/1875\u001b[0m \u001b[32m━━━━━━━━━━━━━━━━━━━━\u001b[0m\u001b[37m\u001b[0m \u001b[1m7s\u001b[0m 4ms/step - accuracy: 0.8602 - loss: 0.3813\n",
      "Time: 16.422712[s], Memory -42.45 MB\n",
      "\n",
      "Finished model training\n"
     ]
    }
   ],
   "source": [
    "# Load the Fashion MNIST dataset\n",
    "fashion_mnist = tf.keras.datasets.fashion_mnist\n",
    "(train_images, train_labels), (test_images, test_labels) = fashion_mnist.load_data()\n",
    "\n",
    "# Normalize the images to the range [0, 1]\n",
    "train_images = train_images / 255.0\n",
    "test_images = test_images / 255.0\n",
    "\n",
    "# Class names for the Fashion MNIST dataset\n",
    "class_names = ['T-shirt/top', 'Trouser', 'Pullover', 'Dress', 'Coat',\n",
    "           \t'Sandal', 'Shirt', 'Sneaker', 'Bag', 'Ankle boot']\n",
    "\n",
    "model = models.Sequential([\n",
    "\tlayers.Flatten(input_shape=(28, 28)),\n",
    "\tlayers.Dense(128, activation='relu'),\n",
    "\tlayers.Dense(10, activation='softmax')\n",
    "])\n",
    "\n",
    "model.compile(optimizer='adam',\n",
    "          \tloss='sparse_categorical_crossentropy',\n",
    "          \tmetrics=['accuracy'])\n",
    "start = time.time()\n",
    "process = psutil.Process(os.getpid())\n",
    "before = process.memory_info().rss\n",
    "model.fit(train_images, train_labels, epochs=2)\n",
    "\n",
    "end = time.time()\n",
    "after = process.memory_info().rss\n",
    "mem = (after - before) / 1024 / 1024\n",
    "\n",
    "data[exp][\"time_train_TF\"] = end - start\n",
    "data[exp][\"mem_train_TF\"] = mem\n",
    "data[exp][\"config\"] = {\n",
    "\t\"device\": device,\n",
    "\t\"gpu\": gpu,\n",
    "}\n",
    "\n",
    "print(f\"Time: {(end - start):2f}[s], Memory {mem:.2f} MB\")\n",
    "print('\\nFinished model training')"
   ]
  },
  {
   "cell_type": "code",
   "execution_count": 54,
   "metadata": {
    "id": "1AEP7_dDy6ZH"
   },
   "outputs": [
    {
     "name": "stdout",
     "output_type": "stream",
     "text": [
      "313/313 - 1s - 3ms/step - accuracy: 0.8641 - loss: 0.3755\n",
      "\n",
      "Test accuracy: 0.8640999794006348\n",
      "Time: 1.087660[s], avg time: 0.000109[s], Memory 1.12 MB\n"
     ]
    }
   ],
   "source": [
    "start = time.time()\n",
    "process = psutil.Process(os.getpid())\n",
    "before = process.memory_info().rss\n",
    "# test model accuracy\n",
    "test_loss, test_acc = model.evaluate(test_images, test_labels, verbose=2)\n",
    "print('\\nTest accuracy:', test_acc)\n",
    "\n",
    "end = time.time()\n",
    "after = process.memory_info().rss\n",
    "mem = (after - before) / 1024 / 1024\n",
    "\n",
    "data[exp][\"time_total_infer_TF\"] = end - start\n",
    "data[exp][\"time_avg_infer_TF\"] = (end - start)/test_images.shape[0]\n",
    "data[exp][\"mem_infer_TF\"] = mem\n",
    "print(f\"Time: {(end - start):2f}[s], avg time: {((end-start)/test_images.shape[0]):2f}[s], \\\n",
    "Memory {mem:.2f} MB\")\n",
    "\n",
    "# export model to a keras file\n",
    "model.save(\"fmnist.keras\")"
   ]
  },
  {
   "cell_type": "code",
   "execution_count": 55,
   "metadata": {
    "id": "b6WvSyozdM2r"
   },
   "outputs": [],
   "source": [
    "# load model from a keras file\n",
    "from keras.models import load_model\n",
    "\n",
    "model = load_model(\"fmnist.keras\")"
   ]
  },
  {
   "cell_type": "code",
   "execution_count": 56,
   "metadata": {
    "id": "IMZicM-FUgBf"
   },
   "outputs": [
    {
     "name": "stdout",
     "output_type": "stream",
     "text": [
      "INFO:tensorflow:Assets written to: C:\\Users\\Santiago\\AppData\\Local\\Temp\\tmpywb6ott2\\assets\n"
     ]
    },
    {
     "name": "stderr",
     "output_type": "stream",
     "text": [
      "INFO:tensorflow:Assets written to: C:\\Users\\Santiago\\AppData\\Local\\Temp\\tmpywb6ott2\\assets\n"
     ]
    },
    {
     "name": "stdout",
     "output_type": "stream",
     "text": [
      "Saved artifact at 'C:\\Users\\Santiago\\AppData\\Local\\Temp\\tmpywb6ott2'. The following endpoints are available:\n",
      "\n",
      "* Endpoint 'serve'\n",
      "  args_0 (POSITIONAL_ONLY): TensorSpec(shape=(None, 28, 28), dtype=tf.float32, name='input_layer_4')\n",
      "Output Type:\n",
      "  TensorSpec(shape=(None, 10), dtype=tf.float32, name=None)\n",
      "Captures:\n",
      "  2836068373264: TensorSpec(shape=(), dtype=tf.resource, name=None)\n",
      "  2836068374224: TensorSpec(shape=(), dtype=tf.resource, name=None)\n",
      "  2836068383632: TensorSpec(shape=(), dtype=tf.resource, name=None)\n",
      "  2836068377488: TensorSpec(shape=(), dtype=tf.resource, name=None)\n"
     ]
    },
    {
     "data": {
      "text/plain": [
       "409036"
      ]
     },
     "execution_count": 56,
     "metadata": {},
     "output_type": "execute_result"
    }
   ],
   "source": [
    "# convert model to TF Lite\n",
    "converter = tf.lite.TFLiteConverter.from_keras_model(model)\n",
    "tflite_model = converter.convert()\n",
    "\n",
    "# save converted model to a file\n",
    "import pathlib\n",
    "tflite_model_file = pathlib.Path('fmnist.tflite')\n",
    "tflite_model_file.write_bytes(tflite_model)"
   ]
  },
  {
   "cell_type": "markdown",
   "metadata": {},
   "source": [
    "## Verify Models TensorFlow"
   ]
  },
  {
   "cell_type": "markdown",
   "metadata": {
    "id": "b7a03KRIEED7"
   },
   "source": [
    "Verify that the model files were exported and use them to run **inference**, both on the Jetson Nano and on a **workstation GPU** using **Tensor Flow**. Contrast **latency** and **peak memory** results too."
   ]
  },
  {
   "cell_type": "code",
   "execution_count": 57,
   "metadata": {
    "id": "GHA8KLonFEfn"
   },
   "outputs": [
    {
     "name": "stdout",
     "output_type": "stream",
     "text": [
      "\u001b[1m313/313\u001b[0m \u001b[32m━━━━━━━━━━━━━━━━━━━━\u001b[0m\u001b[37m\u001b[0m \u001b[1m1s\u001b[0m 2ms/step\n"
     ]
    },
    {
     "data": {
      "image/png": "[encoded data removed]",
      "text/plain": [
       "<Figure size 1200x1000 with 30 Axes>"
      ]
     },
     "metadata": {},
     "output_type": "display_data"
    }
   ],
   "source": [
    "start = time.time()\n",
    "process = psutil.Process(os.getpid())\n",
    "before = process.memory_info().rss\n",
    "\n",
    "predictions = model.predict(test_images)\n",
    "\n",
    "end = time.time()\n",
    "after = process.memory_info().rss\n",
    "mem = (after - before) / 1024 / 1024\n",
    "\n",
    "data[exp][\"time_total_infer_TF\"] = end - start\n",
    "data[exp][\"time_avg_infer_TF\"] = (end - start)/test_images.shape[0]\n",
    "data[exp][\"mem_infer_TF\"] = mem\n",
    "\n",
    "# Function to plot the image, its true label, and the predicted label\n",
    "def plot_image(i, predictions_array, true_label, img):\n",
    "\ttrue_label, img = true_label[i], img[i]\n",
    "\tplt.grid(False)\n",
    "\tplt.xticks([])\n",
    "\tplt.yticks([])\n",
    "\n",
    "\tplt.imshow(img, cmap=plt.cm.binary)\n",
    "\n",
    "\tpredicted_label = np.argmax(predictions_array)\n",
    "\tif predicted_label == true_label:\n",
    "\t\tcolor = 'blue'\n",
    "\telse:\n",
    "\t\tcolor = 'red'\n",
    "\n",
    "\tplt.xlabel(f\"{class_names[predicted_label]} ({class_names[true_label]})\", color=color)\n",
    "\n",
    "def plot_value_array(i, predictions_array, true_label):\n",
    "\ttrue_label = true_label[i]\n",
    "\tplt.grid(False)\n",
    "\tplt.xticks(range(10))\n",
    "\tplt.yticks([])\n",
    "\tthisplot = plt.bar(range(10), predictions_array, color=\"#777777\")\n",
    "\tplt.ylim([0, 1])\n",
    "\tpredicted_label = np.argmax(predictions_array)\n",
    "\n",
    "\tthisplot[predicted_label].set_color('red')\n",
    "\tthisplot[true_label].set_color('blue')\n",
    "\n",
    "# Plot the first X test images, their predicted labels, and the true labels\n",
    "# Color correct predictions in blue, incorrect predictions in red\n",
    "num_rows = 5\n",
    "num_cols = 3\n",
    "num_images = num_rows * num_cols\n",
    "plt.figure(figsize=(2 * 2 * num_cols, 2 * num_rows))\n",
    "for i in range(num_images):\n",
    "\tplt.subplot(num_rows, 2 * num_cols, 2 * i + 1)\n",
    "\tplot_image(i, predictions[i], test_labels, test_images)\n",
    "\tplt.subplot(num_rows, 2 * num_cols, 2 * i + 2)\n",
    "\tplot_value_array(i, predictions[i], test_labels)\n",
    "plt.tight_layout()\n",
    "plt.show()"
   ]
  },
  {
   "cell_type": "markdown",
   "metadata": {},
   "source": [
    "## Inference TF Lite"
   ]
  },
  {
   "cell_type": "markdown",
   "metadata": {
    "id": "ZJLFW--THEnz"
   },
   "source": [
    "Finally, run **inference** with **TF Lite** on both platforms and compare with the previous execution's **latency** and **peak memory** usage."
   ]
  },
  {
   "cell_type": "code",
   "execution_count": 58,
   "metadata": {
    "id": "2212lAtBHXt_"
   },
   "outputs": [
    {
     "name": "stdout",
     "output_type": "stream",
     "text": [
      "[{'name': 'serving_default_input_layer_4:0', 'index': 0, 'shape': array([ 1, 28, 28]), 'shape_signature': array([-1, 28, 28]), 'dtype': <class 'numpy.float32'>, 'quantization': (0.0, 0), 'quantization_parameters': {'scales': array([], dtype=float32), 'zero_points': array([], dtype=int32), 'quantized_dimension': 0}, 'sparsity_parameters': {}}]\n",
      "[{'name': 'StatefulPartitionedCall_1:0', 'index': 9, 'shape': array([ 1, 10]), 'shape_signature': array([-1, 10]), 'dtype': <class 'numpy.float32'>, 'quantization': (0.0, 0), 'quantization_parameters': {'scales': array([], dtype=float32), 'zero_points': array([], dtype=int32), 'quantized_dimension': 0}, 'sparsity_parameters': {}}]\n",
      "Output: [[3.1381718e-05 9.9687531e-07 1.9701209e-05 1.6941527e-05 4.8371048e-06\n",
      "  3.0399229e-02 1.4694576e-05 1.2510362e-01 1.9444571e-03 8.4246409e-01]]\n",
      "Predicted class: 9\n"
     ]
    }
   ],
   "source": [
    "import numpy as np\n",
    "import tensorflow as tf\n",
    "from tensorflow.keras.datasets import fashion_mnist\n",
    "\n",
    "# Load the Fashion MNIST dataset\n",
    "(_, _), (test_images, test_labels) = fashion_mnist.load_data()\n",
    "\n",
    "# Preprocess the test images (normalize and reshape)\n",
    "test_images = test_images.astype(np.float32) / 255.0\n",
    "\n",
    "# Select an image for inference\n",
    "input_image = np.expand_dims(test_images[0], axis=0)\n",
    "\n",
    "tflite_model_file = \"fmnist\"\n",
    "# Load TFLite model and allocate tensors.\n",
    "interpreter = tf.lite.Interpreter(model_path=tflite_model_file+\".tflite\")\n",
    "interpreter.allocate_tensors()\n",
    "\n",
    "# Get input and output tensors.\n",
    "input_details = interpreter.get_input_details()\n",
    "output_details = interpreter.get_output_details()\n",
    "print(input_details)\n",
    "print(output_details)\n",
    "\n",
    "# Set the input tensor\n",
    "interpreter.set_tensor(input_details[0]['index'], input_image)\n",
    "\n",
    "start = time.time()\n",
    "process = psutil.Process(os.getpid())\n",
    "before = process.memory_info().rss\n",
    "\n",
    "# Run the inference\n",
    "interpreter.invoke()\n",
    "\n",
    "# Get the output tensor\n",
    "output_data = interpreter.get_tensor(output_details[0]['index'])\n",
    "\n",
    "end = time.time()\n",
    "after = process.memory_info().rss\n",
    "mem = (after - before) / 1024 / 1024\n",
    "data[exp][\"time_infer_TF_Lite\"] = end - start\n",
    "data[exp][\"mem_infer_TF_Lite\"] = mem\n",
    "\n",
    "\n",
    "# Print the output\n",
    "print(\"Output:\", output_data)\n",
    "\n",
    "# Optionally, you can get the predicted class\n",
    "predicted_class = np.argmax(output_data)\n",
    "print(\"Predicted class:\", predicted_class)"
   ]
  },
  {
   "cell_type": "code",
   "execution_count": 59,
   "metadata": {},
   "outputs": [
    {
     "data": {
      "text/plain": [
       "{'exp1': {'time_train_TF': 16.422711849212646,\n",
       "  'mem_train_TF': -42.44921875,\n",
       "  'config': {'device': 'Workstation', 'gpu': 'NO_GPU'},\n",
       "  'time_total_infer_TF': 0.930185079574585,\n",
       "  'time_avg_infer_TF': 9.30185079574585e-05,\n",
       "  'mem_infer_TF': -3.9453125,\n",
       "  'time_infer_TF_Lite': 0.0,\n",
       "  'mem_infer_TF_Lite': 0.00390625}}"
      ]
     },
     "execution_count": 59,
     "metadata": {},
     "output_type": "execute_result"
    }
   ],
   "source": [
    "data"
   ]
  },
  {
   "cell_type": "markdown",
   "metadata": {
    "id": "dYmxaV2fuYgv"
   },
   "source": [
    "Consolidate all results in one or more tables or plots and write down your conclusions."
   ]
  },
  {
   "cell_type": "markdown",
   "metadata": {},
   "source": [
    "| Metric   | JetsonNano TF | JetsonNano TF Lite | Workstation TF | Workstation TF Lite |\n",
    "|----------|---------------|---------------------|----------------|----------------------|\n",
    "| Time     |               |                     |                |                      |\n",
    "| Memory   |               |                     |                |                      |\n",
    "| Energy   |               |                     |                |                      |\n",
    "\n",
    "**Table 1. Measurements in devices *without* GPU**"
   ]
  },
  {
   "cell_type": "markdown",
   "metadata": {},
   "source": [
    "| Metric   | JetsonNano TF | JetsonNano TF Lite | Workstation TF | Workstation TF Lite |\n",
    "|----------|---------------|---------------------|----------------|----------------------|\n",
    "| Time     |               |                     |                |                      |\n",
    "| Memory   |               |                     |                |                      |\n",
    "| Energy   |               |                     |                |                      |\n",
    "\n",
    "**Table 2. Measurements in devices with GPU**"
   ]
  },
  {
   "cell_type": "markdown",
   "metadata": {
    "id": "B7k1FsSjhAYt"
   },
   "source": [
    "### CNNs on Tensor Flow Lite"
   ]
  },
  {
   "cell_type": "markdown",
   "metadata": {
    "id": "Cg_QXRTyIRRp"
   },
   "source": [
    "Now it's your turn to develop a TF Lite application. This time make sure you train a convolutional model to classify images from a different dataset you choose from Kaggle, Roboflow, Hugging Face or similar, not Mnist, Fashion Mnist nor ImageNet. Now, performance evaluation will focus only on **inference**.\n",
    "\n",
    "Use the Jetson Board and the workstation to run inference both with Tensor Flow and TF Lite. Measure the **peak memory** and **time** and estimate the **energy** consumed based on the nominal power consumption of each system or chip."
   ]
  },
  {
   "cell_type": "markdown",
   "metadata": {
    "id": "_Ib0RDTL4ugB"
   },
   "source": [
    "Repeat the experiments without using a GPU and compare the results. Use the following code to disable GPU use in TensorFlow."
   ]
  },
  {
   "cell_type": "code",
   "execution_count": 60,
   "metadata": {
    "id": "LqIQ-ptk4oBB"
   },
   "outputs": [],
   "source": [
    "import tensorflow as tf\n",
    "\n",
    "# List available GPUs\n",
    "gpus = tf.config.list_physical_devices('GPU')\n",
    "\n",
    "# Disable all GPUs\n",
    "tf.config.set_visible_devices([], 'GPU')"
   ]
  },
  {
   "cell_type": "markdown",
   "metadata": {
    "id": "XRyAL6124rS4"
   },
   "source": [
    "Again, consolidate all results in one or more tables or plots and write down your conclusions."
   ]
  }
 ],
 "metadata": {
  "accelerator": "GPU",
  "colab": {
   "gpuType": "T4",
   "provenance": []
  },
  "kernelspec": {
   "display_name": "Python 3",
   "name": "python3"
  },
  "language_info": {
   "codemirror_mode": {
    "name": "ipython",
    "version": 3
   },
   "file_extension": ".py",
   "mimetype": "text/x-python",
   "name": "python",
   "nbconvert_exporter": "python",
   "pygments_lexer": "ipython3",
   "version": "3.11.9"
  }
 },
 "nbformat": 4,
 "nbformat_minor": 0
}
